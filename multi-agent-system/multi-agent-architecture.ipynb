{
 "cells": [
  {
   "cell_type": "markdown",
   "id": "c3a83f81-2535-4ba0-b338-ccc900894e66",
   "metadata": {},
   "source": [
    "### Libraries"
   ]
  },
  {
   "cell_type": "code",
   "execution_count": 2,
   "id": "73fbb6cc",
   "metadata": {},
   "outputs": [
    {
     "data": {
      "text/plain": [
       "True"
      ]
     },
     "execution_count": 2,
     "metadata": {},
     "output_type": "execute_result"
    }
   ],
   "source": [
    "from dotenv import load_dotenv\n",
    "\n",
    "load_dotenv()"
   ]
  },
  {
   "cell_type": "markdown",
   "id": "4ea9bb99-9870-498b-9014-7f84572da06e",
   "metadata": {},
   "source": [
    "### 1. Network Architecture\n",
    "In a network architecture, every agent can communicate with every other agent. This creates a flexible, many-to-many communication pattern."
   ]
  },
  {
   "cell_type": "code",
   "execution_count": 18,
   "id": "d05e123c",
   "metadata": {},
   "outputs": [],
   "source": [
    "from typing import Literal\n",
    "# from langchain_openai import ChatOpenAI\n",
    "from langgraph.types import Command\n",
    "from langgraph.graph import StateGraph, MessagesState, START, END\n",
    "\n",
    "# model = ChatOpenAI(temperature=0)\n",
    "model = ChatBedrock(model_id=\"anthropic.claude-3-5-sonnet-20241022-v2:0\",region_name=\"us-west-2\")    \n",
    "\n",
    "def researcher_agent(state: MessagesState) -> Command[Literal[\"writer_agent\", \"reviewer_agent\", END]]:\n",
    "    \"\"\"Agent that researches topics and decides next step\"\"\"\n",
    "    messages = state.get(\"messages\", [])\n",
    "    \n",
    "    # Simple logic to determine next agent\n",
    "    if not messages or \"research complete\" not in str(messages[-1]).lower():\n",
    "        research_result = \"Research complete: Found 5 key points about AI architectures\"\n",
    "        next_agent = \"writer_agent\"\n",
    "    else:\n",
    "        next_agent = END\n",
    "    \n",
    "    return Command(\n",
    "        goto=next_agent,\n",
    "        update={\"messages\": [f\"[RESEARCHER]: {research_result}\"]}\n",
    "    )\n",
    "\n",
    "def writer_agent(state: MessagesState) -> Command[Literal[\"researcher_agent\", \"reviewer_agent\", END]]:\n",
    "    \"\"\"Agent that writes content based on research\"\"\"\n",
    "    messages = state.get(\"messages\", [])\n",
    "    \n",
    "    if any(\"research complete\" in str(msg).lower() for msg in messages):\n",
    "        content = \"Draft article written based on research findings\"\n",
    "        next_agent = \"reviewer_agent\"\n",
    "    else:\n",
    "        next_agent = \"researcher_agent\"\n",
    "    \n",
    "    return Command(\n",
    "        goto=next_agent,\n",
    "        update={\"messages\": [f\"[WRITER]: {content}\"]}\n",
    "    )\n",
    "\n",
    "def reviewer_agent(state: MessagesState) -> Command[Literal[\"researcher_agent\", \"writer_agent\", END]]:\n",
    "    \"\"\"Agent that reviews and provides feedback\"\"\"\n",
    "    messages = state.get(\"messages\", [])\n",
    "    \n",
    "    if any(\"draft article\" in str(msg).lower() for msg in messages):\n",
    "        review = \"Article reviewed and approved for publication\"\n",
    "        next_agent = END\n",
    "    else:\n",
    "        next_agent = \"researcher_agent\"\n",
    "    \n",
    "    return Command(\n",
    "        goto=next_agent,\n",
    "        update={\"messages\": [f\"[REVIEWER]: {review}\"]}\n",
    "    )\n",
    "\n",
    "# Build the network\n",
    "builder = StateGraph(MessagesState)\n",
    "builder.add_node(\"researcher_agent\", researcher_agent)\n",
    "builder.add_node(\"writer_agent\", writer_agent)\n",
    "builder.add_node(\"reviewer_agent\", reviewer_agent)\n",
    "\n",
    "builder.add_edge(START, \"researcher_agent\")\n",
    "network = builder.compile()"
   ]
  },
  {
   "cell_type": "code",
   "execution_count": 20,
   "id": "d7f102a0",
   "metadata": {},
   "outputs": [
    {
     "data": {
      "image/png": "[encoded data removed]",
      "text/plain": [
       "<IPython.core.display.Image object>"
      ]
     },
     "metadata": {},
     "output_type": "display_data"
    }
   ],
   "source": [
    "from IPython.display import Image, display\n",
    "from langchain_core.runnables.graph import MermaidDrawMethod\n",
    "\n",
    "display(\n",
    "    Image(\n",
    "        network.get_graph().draw_mermaid_png(\n",
    "            draw_method=MermaidDrawMethod.API,\n",
    "        )\n",
    "    )\n",
    ")"
   ]
  },
  {
   "cell_type": "code",
   "execution_count": 21,
   "id": "528aeaf6-d862-4df9-87eb-f4007f19e51b",
   "metadata": {},
   "outputs": [
    {
     "name": "stdout",
     "output_type": "stream",
     "text": [
      "content='Start research project' additional_kwargs={} response_metadata={} id='f908f35a-e7c9-4578-939b-dc687a3a79d3'\n",
      "content='[RESEARCHER]: Research complete: Found 5 key points about AI architectures' additional_kwargs={} response_metadata={} id='46a9a420-dc9b-466c-9214-b3d58ebffcc4'\n",
      "content='[WRITER]: Draft article written based on research findings' additional_kwargs={} response_metadata={} id='19edebc6-9f65-4f59-8d88-2ec9a87419c4'\n",
      "content='[REVIEWER]: Article reviewed and approved for publication' additional_kwargs={} response_metadata={} id='394ff21f-0efb-442a-9306-0903f273aa1b'\n"
     ]
    }
   ],
   "source": [
    "# Test the network\n",
    "result = network.invoke({\"messages\": [\"Start research project\"]})\n",
    "for message in result[\"messages\"]:\n",
    "    print(message)"
   ]
  },
  {
   "cell_type": "markdown",
   "id": "96febbd8",
   "metadata": {},
   "source": [
    "### 2. Supervisor Architecture\n",
    "In this pattern, a central supervisor coordinates all other agents, making routing decisions."
   ]
  },
  {
   "cell_type": "code",
   "execution_count": 22,
   "id": "4a079148",
   "metadata": {},
   "outputs": [],
   "source": [
    "from typing import Literal\n",
    "# from langchain_openai import ChatOpenAI\n",
    "from langgraph.types import Command\n",
    "from langgraph.graph import StateGraph, MessagesState, START, END\n",
    "\n",
    "# model = ChatOpenAI(temperature=0)\n",
    "\n",
    "def supervisor(state: MessagesState) -> Command[Literal[\"content_creator\", \"editor\", END]]:\n",
    "    \"\"\"Supervisor decides which agent should work next\"\"\"\n",
    "    messages = state.get(\"messages\", [])\n",
    "    \n",
    "    if not messages:\n",
    "        return Command(goto=\"content_creator\")\n",
    "    \n",
    "    last_message = str(messages[-1]).lower()\n",
    "    \n",
    "    if \"content created\" in last_message and \"edited\" not in last_message:\n",
    "        return Command(goto=\"editor\")\n",
    "    elif \"edited and polished\" in last_message:\n",
    "        return Command(goto=END)\n",
    "    else:\n",
    "        return Command(goto=\"content_creator\")\n",
    "\n",
    "def content_creator(state: MessagesState) -> Command[Literal[\"supervisor\"]]:\n",
    "    \"\"\"Creates initial content\"\"\"\n",
    "    content = \"Content created: 'Introduction to Multi-Agent Systems'\"\n",
    "    return Command(\n",
    "        goto=\"supervisor\",\n",
    "        update={\"messages\": [f\"[CREATOR]: {content}\"]}\n",
    "    )\n",
    "\n",
    "def editor(state: MessagesState) -> Command[Literal[\"supervisor\"]]:\n",
    "    \"\"\"Edits and polishes content\"\"\"\n",
    "    edit = \"Content edited and polished for publication\"\n",
    "    return Command(\n",
    "        goto=\"supervisor\",\n",
    "        update={\"messages\": [f\"[EDITOR]: {edit}\"]}\n",
    "    )\n",
    "\n",
    "# Build supervisor system\n",
    "builder = StateGraph(MessagesState)\n",
    "builder.add_node(\"supervisor\", supervisor)\n",
    "builder.add_node(\"content_creator\", content_creator)\n",
    "builder.add_node(\"editor\", editor)\n",
    "\n",
    "builder.add_edge(START, \"supervisor\")\n",
    "supervisor_system = builder.compile()"
   ]
  },
  {
   "cell_type": "code",
   "execution_count": 23,
   "id": "366403e3",
   "metadata": {},
   "outputs": [
    {
     "data": {
      "image/png": "[encoded data removed]",
      "text/plain": [
       "<IPython.core.display.Image object>"
      ]
     },
     "metadata": {},
     "output_type": "display_data"
    }
   ],
   "source": [
    "from IPython.display import Image, display\n",
    "from langchain_core.runnables.graph import MermaidDrawMethod\n",
    "\n",
    "display(\n",
    "    Image(\n",
    "        supervisor_system.get_graph().draw_mermaid_png(\n",
    "            draw_method=MermaidDrawMethod.API,\n",
    "        )\n",
    "    )\n",
    ")"
   ]
  },
  {
   "cell_type": "code",
   "execution_count": 24,
   "id": "0532f4d2-7b63-436a-9314-8c74f2e31163",
   "metadata": {},
   "outputs": [
    {
     "name": "stdout",
     "output_type": "stream",
     "text": [
      "content=\"[CREATOR]: Content created: 'Introduction to Multi-Agent Systems'\" additional_kwargs={} response_metadata={} id='643ae686-669d-4231-bb7b-5d8d9657ab6c'\n",
      "content='[EDITOR]: Content edited and polished for publication' additional_kwargs={} response_metadata={} id='d6debaf8-3510-49f1-b43a-041fa4852c5f'\n"
     ]
    }
   ],
   "source": [
    "# Test the supervisor system\n",
    "result = supervisor_system.invoke({\"messages\": []})\n",
    "for message in result[\"messages\"]:\n",
    "    print(message)"
   ]
  },
  {
   "cell_type": "markdown",
   "id": "b184ab8b",
   "metadata": {},
   "source": [
    "### 3. Supervisor with Tool-Calling\n",
    "This approach treats agents as tools that the supervisor can call, leveraging the LLM's natural tool-calling capabilities.\n"
   ]
  },
  {
   "cell_type": "code",
   "execution_count": 2,
   "id": "a62d1188",
   "metadata": {},
   "outputs": [
    {
     "name": "stdout",
     "output_type": "stream",
     "text": [
      "Type: HumanMessage\n",
      "Content: I'm having trouble with my bill and the app keeps crashing\n",
      "---\n",
      "Type: AIMessage\n",
      "Content: I notice you have two distinct issues here - a billing concern and a technical problem with the app. I'll help you with both using the appropriate agents.\n",
      "\n",
      "Let me handle these issues one by one:\n",
      "\n",
      "1. For the billing issue:\n",
      "---\n",
      "Type: ToolMessage\n",
      "Content: Billing Agent: Processed query 'Customer is having trouble with their bill' - Issue resolved with account credit\n",
      "---\n",
      "Type: AIMessage\n",
      "Content: 2. For the app crashing issue:\n",
      "---\n",
      "Type: ToolMessage\n",
      "Content: Technical Agent: Analyzed 'App keeps crashing for customer' - Solution provided with step-by-step guide\n",
      "---\n",
      "Type: AIMessage\n",
      "Content: I've engaged both our billing and technical support teams to help with your issues. The billing agent has reviewed your account and provided a resolution with an account credit. The technical agent has provided a solution for the app crashing issue.\n",
      "\n",
      "Would you like more specific details about either the billing resolution or the technical steps to fix the app? I can help you focus on whichever aspect is more pressing for you.\n",
      "---\n"
     ]
    }
   ],
   "source": [
    "from typing import Annotated\n",
    "# from langchain_openai import ChatOpenAI\n",
    "from langchain_aws import ChatBedrock\n",
    "\n",
    "from langgraph.prebuilt import InjectedState, create_react_agent\n",
    "from langchain_core.tools import tool\n",
    "\n",
    "model = ChatBedrock(model_id=\"anthropic.claude-3-5-sonnet-20241022-v2:0\",region_name=\"us-west-2\")    \n",
    "\n",
    "@tool\n",
    "def billing_agent(query: str, state: Annotated[dict, InjectedState]) -> str:\n",
    "    \"\"\"Handle billing-related queries and issues\"\"\"\n",
    "    return f\"Billing Agent: Processed query '{query}' - Issue resolved with account credit\"\n",
    "\n",
    "@tool  \n",
    "def technical_agent(query: str, state: Annotated[dict, InjectedState]) -> str:\n",
    "    \"\"\"Handle technical support and troubleshooting\"\"\"\n",
    "    return f\"Technical Agent: Analyzed '{query}' - Solution provided with step-by-step guide\"\n",
    "\n",
    "@tool\n",
    "def general_agent(query: str, state: Annotated[dict, InjectedState]) -> str:\n",
    "    \"\"\"Handle general inquiries and information requests\"\"\"\n",
    "    return f\"General Agent: Addressed '{query}' - Information provided with helpful resources\"\n",
    "\n",
    "# Create tools list\n",
    "tools = [billing_agent, technical_agent, general_agent]\n",
    "\n",
    "# Create supervisor with tool-calling capability\n",
    "supervisor = create_react_agent(model, tools)\n",
    "\n",
    "# Test the tool-calling supervisor\n",
    "result = supervisor.invoke({\n",
    "    \"messages\": [\"I'm having trouble with my bill and the app keeps crashing\"]\n",
    "})\n",
    "\n",
    "for message in result[\"messages\"]:\n",
    "    print(f\"Type: {type(message).__name__}\")\n",
    "    print(f\"Content: {getattr(message, 'content', str(message))}\")\n",
    "    print(\"---\")"
   ]
  },
  {
   "cell_type": "markdown",
   "id": "eb2d3f5c-e8e0-4968-9911-6d6107d87d21",
   "metadata": {},
   "source": [
    "### 4. Hierarchical Architecture"
   ]
  },
  {
   "cell_type": "code",
   "execution_count": 15,
   "id": "f68a0790-8c67-4c59-a0f7-24e4f39ff6fe",
   "metadata": {},
   "outputs": [],
   "source": [
    "from typing import Literal\n",
    "from langgraph.graph import StateGraph, MessagesState, START, END\n",
    "from langgraph.types import Command\n",
    "\n",
    "# Development Team\n",
    "def dev_supervisor(state: MessagesState) -> Command[Literal[\"frontend_dev\", \"backend_dev\", END]]:\n",
    "    \"\"\"Manages development team\"\"\"\n",
    "    messages = state.get(\"messages\", [])\n",
    "    all_messages = \" \".join(str(msg).lower() for msg in messages)\n",
    "    \n",
    "    backend_done = \"backend\" in all_messages and \"complete\" in all_messages and \"[backend]\" in all_messages.lower()\n",
    "    frontend_done = \"frontend\" in all_messages and \"complete\" in all_messages and \"[frontend]\" in all_messages.lower()\n",
    "    \n",
    "    if not backend_done:\n",
    "        return Command(goto=\"backend_dev\")\n",
    "    elif not frontend_done:\n",
    "        return Command(goto=\"frontend_dev\")\n",
    "    else:\n",
    "        return Command(goto=END)\n",
    "\n",
    "def backend_dev(state: MessagesState) -> Command[Literal[\"dev_supervisor\"]]:\n",
    "    return Command(\n",
    "        goto=\"dev_supervisor\",\n",
    "        update={\"messages\": [\"[BACKEND]: Development complete\"]}\n",
    "    )\n",
    "\n",
    "def frontend_dev(state: MessagesState) -> Command[Literal[\"dev_supervisor\"]]:\n",
    "    return Command(\n",
    "        goto=\"dev_supervisor\", \n",
    "        update={\"messages\": [\"[FRONTEND]: Development complete\"]}\n",
    "    )\n",
    "\n",
    "# Build development team\n",
    "dev_builder = StateGraph(MessagesState)\n",
    "dev_builder.add_node(\"dev_supervisor\", dev_supervisor)\n",
    "dev_builder.add_node(\"backend_dev\", backend_dev)\n",
    "dev_builder.add_node(\"frontend_dev\", frontend_dev)\n",
    "dev_builder.add_edge(START, \"dev_supervisor\")\n",
    "dev_team = dev_builder.compile()\n",
    "\n",
    "# QA Team  \n",
    "def qa_supervisor(state: MessagesState) -> Command[Literal[\"tester\", \"security_analyst\", END]]:\n",
    "    \"\"\"Manages QA team\"\"\"\n",
    "    messages = state.get(\"messages\", [])\n",
    "    all_messages = \" \".join(str(msg).lower() for msg in messages)\n",
    "    \n",
    "    testing_done = \"tester\" in all_messages and \"complete\" in all_messages\n",
    "    security_done = \"security\" in all_messages and \"complete\" in all_messages\n",
    "    \n",
    "    if not testing_done:\n",
    "        return Command(goto=\"tester\")\n",
    "    elif not security_done:\n",
    "        return Command(goto=\"security_analyst\")\n",
    "    else:\n",
    "        return Command(goto=END)\n",
    "\n",
    "def tester(state: MessagesState) -> Command[Literal[\"qa_supervisor\"]]:\n",
    "    return Command(\n",
    "        goto=\"qa_supervisor\",\n",
    "        update={\"messages\": [\"[TESTER]: Testing complete\"]}\n",
    "    )\n",
    "\n",
    "def security_analyst(state: MessagesState) -> Command[Literal[\"qa_supervisor\"]]:\n",
    "    return Command(\n",
    "        goto=\"qa_supervisor\",\n",
    "        update={\"messages\": [\"[SECURITY]: Security analysis complete\"]}\n",
    "    )\n",
    "\n",
    "# Build QA team\n",
    "qa_builder = StateGraph(MessagesState)\n",
    "qa_builder.add_node(\"qa_supervisor\", qa_supervisor)\n",
    "qa_builder.add_node(\"tester\", tester)\n",
    "qa_builder.add_node(\"security_analyst\", security_analyst)\n",
    "qa_builder.add_edge(START, \"qa_supervisor\")\n",
    "qa_team = qa_builder.compile()\n",
    "\n",
    "# Top-level supervisor\n",
    "def top_supervisor(state: MessagesState) -> Command[Literal[\"dev_team\", \"qa_team\", END]]:\n",
    "    \"\"\"Top-level project coordinator\"\"\"\n",
    "    messages = state.get(\"messages\", [])\n",
    "    \n",
    "    if not messages:\n",
    "        return Command(goto=\"dev_team\")\n",
    "    \n",
    "    all_messages = \" \".join(str(msg).lower() for msg in messages)\n",
    "    \n",
    "    # Check if development is complete (both backend and frontend)\n",
    "    dev_complete = (\"[backend]\" in all_messages and \n",
    "                   \"[frontend]\" in all_messages and \n",
    "                   all_messages.count(\"development complete\") >= 2)\n",
    "    \n",
    "    # Check if QA is complete (both testing and security)\n",
    "    qa_complete = (\"[tester]\" in all_messages and \n",
    "                  \"[security]\" in all_messages and\n",
    "                  \"testing complete\" in all_messages and\n",
    "                  \"security analysis complete\" in all_messages)\n",
    "    \n",
    "    if not dev_complete:\n",
    "        return Command(goto=\"dev_team\")\n",
    "    elif not qa_complete:\n",
    "        return Command(goto=\"qa_team\")\n",
    "    else:\n",
    "        return Command(goto=END)\n",
    "\n",
    "# Build hierarchical system\n",
    "builder = StateGraph(MessagesState)\n",
    "builder.add_node(\"top_supervisor\", top_supervisor)\n",
    "builder.add_node(\"dev_team\", dev_team)\n",
    "builder.add_node(\"qa_team\", qa_team)\n",
    "builder.add_edge(START, \"top_supervisor\")\n",
    "builder.add_edge(\"dev_team\", \"top_supervisor\")\n",
    "builder.add_edge(\"qa_team\", \"top_supervisor\")\n",
    "\n",
    "# Compile with higher recursion limit as safety measure\n",
    "hierarchical_system = builder.compile()\n"
   ]
  },
  {
   "cell_type": "code",
   "execution_count": 16,
   "id": "ad08caee-76a3-4fe6-a1bb-40d2c4f27696",
   "metadata": {},
   "outputs": [
    {
     "data": {
      "image/png": "[encoded data removed]",
      "text/plain": [
       "<IPython.core.display.Image object>"
      ]
     },
     "metadata": {},
     "output_type": "display_data"
    }
   ],
   "source": [
    "from IPython.display import Image, display\n",
    "from langchain_core.runnables.graph import MermaidDrawMethod\n",
    "\n",
    "display(\n",
    "    Image(\n",
    "        hierarchical_system.get_graph().draw_mermaid_png(\n",
    "            draw_method=MermaidDrawMethod.API,\n",
    "        )\n",
    "    )\n",
    ")"
   ]
  },
  {
   "cell_type": "code",
   "execution_count": 6,
   "id": "a24841d1-d81f-4913-8dc8-45f7f81af2fa",
   "metadata": {},
   "outputs": [
    {
     "name": "stdout",
     "output_type": "stream",
     "text": [
      "Testing hierarchical system...\n",
      "\n",
      "Final messages:\n",
      "1. content='Start new project' additional_kwargs={} response_metadata={} id='cada775f-6f27-4683-92d0-9297c9631474'\n",
      "2. content='[BACKEND]: Development complete' additional_kwargs={} response_metadata={} id='aa71f922-6d29-4c39-b183-8eb8b726695f'\n",
      "3. content='[FRONTEND]: Development complete' additional_kwargs={} response_metadata={} id='03b9f903-eb4e-4830-9457-2e0cdc764940'\n",
      "4. content='[TESTER]: Testing complete' additional_kwargs={} response_metadata={} id='d588c559-9b4c-485c-b4b2-a0b2567d4221'\n",
      "5. content='[SECURITY]: Security analysis complete' additional_kwargs={} response_metadata={} id='f7725d5f-d2d1-49d3-9c64-43c4f912cd21'\n"
     ]
    }
   ],
   "source": [
    "# Test hierarchical system\n",
    "print(\"Testing hierarchical system...\")\n",
    "result = hierarchical_system.invoke(\n",
    "    {\"messages\": [\"Start new project\"]},\n",
    "    config={\"recursion_limit\": 50}  # Increase limit as safety measure\n",
    ")\n",
    "\n",
    "print(\"\\nFinal messages:\")\n",
    "for i, message in enumerate(result[\"messages\"], 1):\n",
    "    print(f\"{i}. {message}\")"
   ]
  },
  {
   "cell_type": "markdown",
   "id": "e191ba8a-001e-495c-bb38-70149da736ce",
   "metadata": {},
   "source": [
    "### 5. Custom Workflow Architecture\n",
    "This approach defines explicit workflows with some dynamic routing capabilities.\n"
   ]
  },
  {
   "cell_type": "code",
   "execution_count": 1,
   "id": "3b407d0f-fbeb-4f8d-b28c-d24f3a735068",
   "metadata": {},
   "outputs": [],
   "source": [
    "from typing import Literal\n",
    "# from langchain_openai import ChatOpenAI\n",
    "from langgraph.graph import StateGraph, MessagesState, START, END\n",
    "from langgraph.types import Command\n",
    "\n",
    "# model = ChatOpenAI(temperature=0)\n",
    "\n",
    "def document_parser(state: MessagesState) -> Command[Literal[\"content_analyzer\"]]:\n",
    "    \"\"\"Parse incoming documents\"\"\"\n",
    "    return Command(\n",
    "        goto=\"content_analyzer\",\n",
    "        update={\"messages\": [f\"[PARSER]: Document parsed - detected format: PDF, 10 pages\"]}\n",
    "    )\n",
    "\n",
    "def content_analyzer(state: MessagesState) -> Command[Literal[\"text_processor\", \"image_processor\"]]:\n",
    "    \"\"\"Analyze content type and route accordingly\"\"\"\n",
    "    # Simulate content analysis\n",
    "    content_type = \"mixed\"  # Could be \"text\", \"image\", or \"mixed\"\n",
    "    \n",
    "    if content_type in [\"text\", \"mixed\"]:\n",
    "        return Command(\n",
    "            goto=\"text_processor\",\n",
    "            update={\"messages\": [f\"[ANALYZER]: Content analyzed - contains text and images\"]}\n",
    "        )\n",
    "    else:\n",
    "        return Command(goto=\"image_processor\")\n",
    "\n",
    "def text_processor(state: MessagesState) -> Command[Literal[\"summarizer\"]]:\n",
    "    \"\"\"Process text content\"\"\"\n",
    "    return Command(\n",
    "        goto=\"summarizer\",\n",
    "        update={\"messages\": [f\"[TEXT_PROC]: Text extracted and cleaned - 2,500 words\"]}\n",
    "    )\n",
    "\n",
    "def image_processor(state: MessagesState) -> Command[Literal[\"summarizer\"]]:\n",
    "    \"\"\"Process image content\"\"\"\n",
    "    return Command(\n",
    "        goto=\"summarizer\",\n",
    "        update={\"messages\": [f\"[IMAGE_PROC]: Images processed - 5 charts and 3 diagrams analyzed\"]}\n",
    "    )\n",
    "\n",
    "def summarizer(state: MessagesState) -> Command[Literal[END]]:\n",
    "    \"\"\"Generate final summary\"\"\"\n",
    "    return Command(\n",
    "        goto=END,\n",
    "        update={\"messages\": [f\"[SUMMARIZER]: Final summary generated - key insights extracted\"]}\n",
    "    )\n",
    "\n",
    "# Build custom workflow\n",
    "builder = StateGraph(MessagesState)\n",
    "builder.add_node(\"document_parser\", document_parser)\n",
    "builder.add_node(\"content_analyzer\", content_analyzer)\n",
    "builder.add_node(\"text_processor\", text_processor)\n",
    "builder.add_node(\"image_processor\", image_processor)\n",
    "builder.add_node(\"summarizer\", summarizer)\n",
    "\n",
    "# Define explicit workflow\n",
    "builder.add_edge(START, \"document_parser\")\n",
    "\n",
    "custom_workflow = builder.compile()"
   ]
  },
  {
   "cell_type": "code",
   "execution_count": 2,
   "id": "32b48f25-ac66-4c92-afcd-a42c829a34f5",
   "metadata": {},
   "outputs": [
    {
     "data": {
      "image/png": "[encoded data removed]",
      "text/plain": [
       "<IPython.core.display.Image object>"
      ]
     },
     "metadata": {},
     "output_type": "display_data"
    }
   ],
   "source": [
    "from IPython.display import Image, display\n",
    "from langchain_core.runnables.graph import MermaidDrawMethod\n",
    "\n",
    "display(\n",
    "    Image(\n",
    "        custom_workflow.get_graph().draw_mermaid_png(\n",
    "            draw_method=MermaidDrawMethod.API,\n",
    "        )\n",
    "    )\n",
    ")"
   ]
  },
  {
   "cell_type": "code",
   "execution_count": null,
   "id": "c06aac9a",
   "metadata": {},
   "outputs": [],
   "source": []
  },
  {
   "cell_type": "code",
   "execution_count": 3,
   "id": "a1aba654-c61c-43a7-9ca1-fb1d2ca8a3dc",
   "metadata": {},
   "outputs": [
    {
     "name": "stdout",
     "output_type": "stream",
     "text": [
      "content='Process uploaded document' additional_kwargs={} response_metadata={} id='2bbf85d2-8270-4297-9724-fc94fffe368f'\n",
      "content='[PARSER]: Document parsed - detected format: PDF, 10 pages' additional_kwargs={} response_metadata={} id='8f0ff915-3f58-4bb5-a309-0d61315e320a'\n",
      "content='[ANALYZER]: Content analyzed - contains text and images' additional_kwargs={} response_metadata={} id='5d8fac80-552a-4cf7-8dce-e61c3c176c7b'\n",
      "content='[TEXT_PROC]: Text extracted and cleaned - 2,500 words' additional_kwargs={} response_metadata={} id='3e0b581b-81ea-4d89-9027-9c4753b33327'\n",
      "content='[SUMMARIZER]: Final summary generated - key insights extracted' additional_kwargs={} response_metadata={} id='d6106ced-1d98-419f-ab0f-44c7afdb5ad1'\n"
     ]
    }
   ],
   "source": [
    "# Test custom workflow\n",
    "result = custom_workflow.invoke({\"messages\": [\"Process uploaded document\"]})\n",
    "for message in result[\"messages\"]:\n",
    "    print(message)"
   ]
  },
  {
   "cell_type": "code",
   "execution_count": null,
   "id": "cd1d94f9-01cc-4916-83fe-8d1208bba750",
   "metadata": {},
   "outputs": [],
   "source": []
  }
 ],
 "metadata": {
  "kernelspec": {
   "display_name": "Python (llm-venv)",
   "language": "python",
   "name": "llm-venv"
  },
  "language_info": {
   "codemirror_mode": {
    "name": "ipython",
    "version": 3
   },
   "file_extension": ".py",
   "mimetype": "text/x-python",
   "name": "python",
   "nbconvert_exporter": "python",
   "pygments_lexer": "ipython3",
   "version": "3.10.18"
  }
 },
 "nbformat": 4,
 "nbformat_minor": 5
}

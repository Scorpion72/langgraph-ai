{
 "cells": [
  {
   "cell_type": "markdown",
   "metadata": {},
   "source": [
    "### Routing: Directing Inputs to Specialized Processes\n",
    "\n",
    "Routing is a fundamental agentic workflow pattern that involves intelligently classifying incoming inputs and directing them to the most appropriate specialized process or handler. Think of it as a sophisticated traffic controller that ensures each request reaches the right destination based on its characteristics and requirements.\n",
    "\n",
    "This pattern operates on the principle that different types of queries require different handling strategies. Rather than using a one-size-fits-all approach, routing ensures that each input is processed by the most suitable component, leading to improved efficiency, accuracy, and resource utilization."
   ]
  },
  {
   "cell_type": "markdown",
   "metadata": {},
   "source": [
    "This is typically implemented using:\n",
    "\n",
    "- add_conditional_edges: A method that maps a node’s output (or a condition function’s result) to different possible next nodes.\n",
    "\n",
    "- State: The workflow’s state can store variables that influence routing decisions.\n",
    "\n",
    "- Condition Functions: Functions that evaluate the state or node output to decide the next step.\n",
    "\n",
    "\n"
   ]
  },
  {
   "cell_type": "markdown",
   "metadata": {},
   "source": [
    "### Step 1: Setting Up the Environment\n"
   ]
  },
  {
   "cell_type": "code",
   "execution_count": null,
   "metadata": {},
   "outputs": [],
   "source": [
    "from dotenv import load_dotenv\n",
    "load_dotenv()\n",
    "\n",
    "from typing_extensions import TypedDict, Literal\n",
    "from langgraph.graph import StateGraph, START, END\n",
    "from langchain_google_genai import ChatGoogleGenerativeAI\n",
    "from pydantic import BaseModel, Field\n",
    "from langchain_core.messages import HumanMessage, SystemMessage\n",
    "\n",
    "# Initialize the language model for routing and processing\n",
    "language_model = ChatGoogleGenerativeAI(model=\"gemini-2.0-flash-exp\")"
   ]
  },
  {
   "cell_type": "markdown",
   "metadata": {},
   "source": [
    "\n",
    "### Step 2: Defining the Routing Schema\n"
   ]
  },
  {
   "cell_type": "code",
   "execution_count": 10,
   "metadata": {},
   "outputs": [],
   "source": [
    "# Define the routing decision schema for structured output\n",
    "class ContentRoute(BaseModel):\n",
    "    \"\"\"Schema for routing creative content requests\"\"\"\n",
    "    content_type: Literal[\"story\", \"poem\", \"joke\"] = Field(\n",
    "        description=\"The type of creative content to generate\"\n",
    "    )\n",
    "\n",
    "# Create a structured router using the schema\n",
    "content_router = language_model.with_structured_output(ContentRoute)"
   ]
  },
  {
   "cell_type": "markdown",
   "metadata": {},
   "source": [
    "\n",
    "### Step 3: Creating the Workflow State\n"
   ]
  },
  {
   "cell_type": "code",
   "execution_count": 2,
   "metadata": {},
   "outputs": [],
   "source": [
    "# Define the state structure for our routing workflow\n",
    "class RoutingState(TypedDict):\n",
    "    user_input: str          # Original user request\n",
    "    routing_decision: str    # Decision made by router\n",
    "    final_output: str        # Generated content"
   ]
  },
  {
   "cell_type": "markdown",
   "metadata": {},
   "source": [
    "### Step 4: Implementing Specialized Content Handlers\n"
   ]
  },
  {
   "cell_type": "code",
   "execution_count": 3,
   "metadata": {},
   "outputs": [],
   "source": [
    "def generate_story(state: RoutingState):\n",
    "    \"\"\"Specialized handler for story generation\"\"\"\n",
    "    story_prompt = f\"Write an engaging short story based on: {state['user_input']}\"\n",
    "    response = language_model.invoke(story_prompt)\n",
    "    return {\"final_output\": response.content}\n",
    "\n",
    "def generate_poem(state: RoutingState):\n",
    "    \"\"\"Specialized handler for poem generation\"\"\"\n",
    "    poem_prompt = f\"Create a creative poem inspired by: {state['user_input']}\"\n",
    "    response = language_model.invoke(poem_prompt)\n",
    "    return {\"final_output\": response.content}\n",
    "\n",
    "def generate_joke(state: RoutingState):\n",
    "    \"\"\"Specialized handler for joke generation\"\"\"\n",
    "    joke_prompt = f\"Write a funny, clean joke about: {state['user_input']}\"\n",
    "    response = language_model.invoke(joke_prompt)\n",
    "    return {\"final_output\": response.content}"
   ]
  },
  {
   "cell_type": "markdown",
   "metadata": {},
   "source": [
    "### Step 5: Building the Router Logic"
   ]
  },
  {
   "cell_type": "code",
   "execution_count": 4,
   "metadata": {},
   "outputs": [],
   "source": [
    "def route_content_request(state: RoutingState):\n",
    "    \"\"\"Analyze input and determine the appropriate content type\"\"\"\n",
    "    routing_messages = [\n",
    "        SystemMessage(\n",
    "            content=\"Analyze the user's request and determine if they want a story, poem, or joke. \"\n",
    "                   \"Consider keywords, tone, and intent in your decision.\"\n",
    "        ),\n",
    "        HumanMessage(content=state[\"user_input\"])\n",
    "    ]\n",
    "    \n",
    "    decision = content_router.invoke(routing_messages)\n",
    "    return {\"routing_decision\": decision.content_type}"
   ]
  },
  {
   "cell_type": "markdown",
   "metadata": {},
   "source": [
    "### Step 6: Implementing Conditional Routing\n"
   ]
  },
  {
   "cell_type": "code",
   "execution_count": 5,
   "metadata": {},
   "outputs": [],
   "source": [
    "def determine_next_step(state: RoutingState):\n",
    "    \"\"\"Conditional function to route to the appropriate handler\"\"\"\n",
    "    routing_map = {\n",
    "        \"story\": \"generate_story\",\n",
    "        \"poem\": \"generate_poem\", \n",
    "        \"joke\": \"generate_joke\"\n",
    "    }\n",
    "    return routing_map.get(state[\"routing_decision\"], \"generate_story\")"
   ]
  },
  {
   "cell_type": "markdown",
   "metadata": {},
   "source": [
    "### Step 7: Building and Compiling the Workflow\n"
   ]
  },
  {
   "cell_type": "code",
   "execution_count": 7,
   "metadata": {},
   "outputs": [],
   "source": [
    "# Create the routing workflow graph\n",
    "routing_graph = StateGraph(RoutingState)\n",
    "\n",
    "# Add all processing nodes\n",
    "routing_graph.add_node(\"route_content_request\", route_content_request)\n",
    "routing_graph.add_node(\"generate_story\", generate_story)\n",
    "routing_graph.add_node(\"generate_poem\", generate_poem)\n",
    "routing_graph.add_node(\"generate_joke\", generate_joke)\n",
    "\n",
    "# Define the workflow connections\n",
    "routing_graph.add_edge(START, \"route_content_request\")\n",
    "\n",
    "# Add conditional routing based on decision\n",
    "routing_graph.add_conditional_edges(\n",
    "    \"route_content_request\",\n",
    "    determine_next_step,\n",
    "    {\n",
    "        \"generate_story\": \"generate_story\",\n",
    "        \"generate_poem\": \"generate_poem\",\n",
    "        \"generate_joke\": \"generate_joke\"\n",
    "    }\n",
    ")\n",
    "\n",
    "# Connect all handlers to the end\n",
    "routing_graph.add_edge(\"generate_story\", END)\n",
    "routing_graph.add_edge(\"generate_poem\", END)\n",
    "routing_graph.add_edge(\"generate_joke\", END)\n",
    "\n",
    "# Compile the workflow\n",
    "content_routing_workflow = routing_graph.compile()"
   ]
  },
  {
   "cell_type": "code",
   "execution_count": 8,
   "metadata": {},
   "outputs": [
    {
     "data": {
      "image/png": "[encoded data removed]",
      "text/plain": [
       "<IPython.core.display.Image object>"
      ]
     },
     "metadata": {},
     "output_type": "display_data"
    }
   ],
   "source": [
    "from IPython.display import Image, display\n",
    "from langchain_core.runnables.graph import MermaidDrawMethod\n",
    "\n",
    "display(\n",
    "    Image(\n",
    "        content_routing_workflow.get_graph().draw_mermaid_png(\n",
    "            draw_method=MermaidDrawMethod.API,\n",
    "        )\n",
    "    )\n",
    ")"
   ]
  },
  {
   "cell_type": "markdown",
   "metadata": {},
   "source": [
    "### Step 8: Testing the Routing System"
   ]
  },
  {
   "cell_type": "code",
   "execution_count": 11,
   "metadata": {},
   "outputs": [
    {
     "name": "stdout",
     "output_type": "stream",
     "text": [
      "\n",
      "--- Processing: 'Tell me something funny about artificial intelligence' ---\n",
      "Routed to: joke\n",
      "Output: Why did the AI cross the road? \n",
      "\n",
      "Because the algorithm said it was the optimal path to the other sid...\n",
      "\n",
      "--- Processing: 'I want to hear a tale about a brave knight' ---\n",
      "Routed to: story\n",
      "Output: Sir Kaelen the Bold, they called him. Bold, perhaps, but also perpetually dusty. He preferred the fe...\n",
      "\n",
      "--- Processing: 'Create something poetic about the ocean' ---\n",
      "Routed to: poem\n",
      "Output: The ocean breathes, a turquoise lung,\n",
      "Expanding wide where sky has clung.\n",
      "A whispered sigh on sandy ...\n"
     ]
    }
   ],
   "source": [
    "# Test the routing system with different inputs\n",
    "test_inputs = [\n",
    "    \"Tell me something funny about artificial intelligence\",\n",
    "    \"I want to hear a tale about a brave knight\",\n",
    "    \"Create something poetic about the ocean\"\n",
    "]\n",
    "\n",
    "for user_request in test_inputs:\n",
    "    print(f\"\\n--- Processing: '{user_request}' ---\")\n",
    "    \n",
    "    result = content_routing_workflow.invoke({\n",
    "        \"user_input\": user_request\n",
    "    })\n",
    "    \n",
    "    print(f\"Routed to: {result['routing_decision']}\")\n",
    "    print(f\"Output: {result['final_output'][:100]}...\")"
   ]
  }
 ],
 "metadata": {
  "kernelspec": {
   "display_name": "Python (llm-venv)",
   "language": "python",
   "name": "llm-venv"
  },
  "language_info": {
   "codemirror_mode": {
    "name": "ipython",
    "version": 3
   },
   "file_extension": ".py",
   "mimetype": "text/x-python",
   "name": "python",
   "nbconvert_exporter": "python",
   "pygments_lexer": "ipython3",
   "version": "3.10.18"
  }
 },
 "nbformat": 4,
 "nbformat_minor": 2
}

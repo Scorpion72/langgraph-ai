{
 "cells": [
  {
   "cell_type": "markdown",
   "id": "aa9b299d",
   "metadata": {},
   "source": [
    "# Multiple Approaches to Implementing Interrupts"
   ]
  },
  {
   "cell_type": "markdown",
   "id": "be61a1d3",
   "metadata": {},
   "source": [
    "## Method 1: Runtime Interrupts Using interrupt() Function"
   ]
  },
  {
   "cell_type": "markdown",
   "id": "3d558da9",
   "metadata": {},
   "source": [
    "### Step 1: Import Required Libraries"
   ]
  },
  {
   "cell_type": "code",
   "execution_count": 2,
   "id": "c55b0d5a",
   "metadata": {},
   "outputs": [],
   "source": [
    "from typing import TypedDict\n",
    "import uuid\n",
    "from langgraph.checkpoint.memory import InMemorySaver\n",
    "from langgraph.constants import START\n",
    "from langgraph.graph import StateGraph\n",
    "from langgraph.types import interrupt, Command"
   ]
  },
  {
   "cell_type": "markdown",
   "id": "ee24706c",
   "metadata": {},
   "source": [
    "### Step 2: Define the State Schema"
   ]
  },
  {
   "cell_type": "code",
   "execution_count": 3,
   "id": "d24d2f3e",
   "metadata": {},
   "outputs": [],
   "source": [
    "class State(TypedDict):\n",
    "    some_text: str"
   ]
  },
  {
   "cell_type": "markdown",
   "id": "6dfb88ae",
   "metadata": {},
   "source": [
    "### Step 3: Create the Human Node Function"
   ]
  },
  {
   "cell_type": "code",
   "execution_count": 4,
   "id": "dd2cf28c",
   "metadata": {},
   "outputs": [],
   "source": [
    "def human_node(state: State):\n",
    "    print(f\"Node started with state: {state}\")\n",
    "    # Present current state to human and pause execution\n",
    "    value = interrupt({\n",
    "        \"text_to_revise\": state[\"some_text\"]\n",
    "    })\n",
    "    print(f\"Received human input: {value}\")\n",
    "    # When resumed, this will contain the human's input\n",
    "    return {\n",
    "        \"some_text\": value\n",
    "    }"
   ]
  },
  {
   "cell_type": "markdown",
   "id": "dff7af8d",
   "metadata": {},
   "source": [
    "### Step 4: Build the Graph Structure"
   ]
  },
  {
   "cell_type": "code",
   "execution_count": null,
   "id": "1c5412ab-1bf0-4354-9471-fe6225454971",
   "metadata": {},
   "outputs": [],
   "source": [
    "\n",
    "# Build the graph\n",
    "graph_builder = StateGraph(State)\n",
    "graph_builder.add_node(\"human_node\", human_node)\n",
    "graph_builder.add_edge(START, \"human_node\")\n",
    "\n",
    "checkpointer = InMemorySaver() \n",
    "graph = graph_builder.compile(checkpointer=checkpointer)\n"
   ]
  },
  {
   "cell_type": "code",
   "execution_count": 2,
   "id": "54534589-5cfd-462f-b928-c70f9cdf991b",
   "metadata": {},
   "outputs": [
    {
     "data": {
      "image/png": "[encoded data removed]",
      "text/plain": [
       "<IPython.core.display.Image object>"
      ]
     },
     "metadata": {},
     "output_type": "display_data"
    }
   ],
   "source": [
    "from IPython.display import Image, display\n",
    "from langchain_core.runnables.graph import MermaidDrawMethod\n",
    "\n",
    "display(\n",
    "    Image(\n",
    "        graph.get_graph().draw_mermaid_png(\n",
    "            draw_method=MermaidDrawMethod.API,\n",
    "        )\n",
    "    )\n",
    ")"
   ]
  },
  {
   "cell_type": "markdown",
   "id": "4f6b5e87",
   "metadata": {},
   "source": [
    "### Step 7: Initialize Execution"
   ]
  },
  {
   "cell_type": "code",
   "execution_count": null,
   "id": "c32ffc63-bd15-40c1-aaed-4b72588b4f00",
   "metadata": {},
   "outputs": [
    {
     "name": "stdout",
     "output_type": "stream",
     "text": [
      "🚀 Starting graph execution...\n",
      "Node started with state: {'some_text': 'original text'}\n"
     ]
    }
   ],
   "source": [
    "# Execute with thread ID\n",
    "config = {\"configurable\": {\"thread_id\": uuid.uuid4()}}\n",
    "\n",
    "result = graph.invoke({\"some_text\": \"original text\"}, config=config)"
   ]
  },
  {
   "cell_type": "code",
   "execution_count": null,
   "id": "1f59c9d6-9d30-41a4-b5ae-7fef20d5035e",
   "metadata": {},
   "outputs": [
    {
     "name": "stdout",
     "output_type": "stream",
     "text": [
      "⏸️  Graph paused! Here's what happened:\n",
      "Current state: {'some_text': 'original text', '__interrupt__': [Interrupt(value={'text_to_revise': 'original text'}, resumable=True, ns=['human_node:178c8502-3bc0-c193-cac2-d1ec5bda8598'])]}\n",
      "Interrupt details: [Interrupt(value={'text_to_revise': 'original text'}, resumable=True, ns=['human_node:178c8502-3bc0-c193-cac2-d1ec5bda8598'])]\n"
     ]
    }
   ],
   "source": [
    "print(\"Graph paused! Here's what happened:\")\n",
    "print(f\"Current state: {result}\")\n",
    "print(f\"Interrupt details: {result.get('__interrupt__')}\")"
   ]
  },
  {
   "cell_type": "code",
   "execution_count": 5,
   "id": "408a6658-9676-4fb7-8d58-f6f51ad43cc9",
   "metadata": {},
   "outputs": [
    {
     "name": "stdout",
     "output_type": "stream",
     "text": [
      "📊 Current graph state: {'some_text': 'original text'}\n",
      "Next node to execute: ('human_node',)\n"
     ]
    }
   ],
   "source": [
    "# Check the current state\n",
    "current_state = graph.get_state(config)\n",
    "print(f\"📊 Current graph state: {current_state.values}\")\n",
    "print(f\"Next node to execute: {current_state.next}\")\n"
   ]
  },
  {
   "cell_type": "code",
   "execution_count": 6,
   "id": "27ff72aa-aaf3-42f7-baa2-affc95059a03",
   "metadata": {},
   "outputs": [
    {
     "name": "stdout",
     "output_type": "stream",
     "text": [
      "\n",
      "🔄 Resuming with human input...\n",
      "Node started with state: {'some_text': 'original text'}\n",
      "Received human input: Edited text\n",
      "✅ Final result: {'some_text': 'Edited text'}\n"
     ]
    }
   ],
   "source": [
    "print(\"\\n Resuming with human input...\")\n",
    "final_result = graph.invoke(Command(resume=\"Edited text\"), config=config)\n",
    "print(f\" Final result: {final_result}\")"
   ]
  },
  {
   "cell_type": "markdown",
   "id": "313344fd",
   "metadata": {},
   "source": [
    "## Method 2: Compile-Time Interrupts Using interrupt_before and interrupt_after"
   ]
  },
  {
   "cell_type": "markdown",
   "id": "083485e0-1c5e-43e3-8f22-1b15fd63e22f",
   "metadata": {},
   "source": [
    "### interrupt_before\n"
   ]
  },
  {
   "cell_type": "code",
   "execution_count": 8,
   "id": "718de762-98d0-42e5-ac06-7594cf83d44a",
   "metadata": {},
   "outputs": [
    {
     "data": {
      "text/plain": [
       "<langgraph.graph.state.StateGraph at 0x7fa0dda22140>"
      ]
     },
     "execution_count": 8,
     "metadata": {},
     "output_type": "execute_result"
    }
   ],
   "source": [
    "from typing import TypedDict\n",
    "from langgraph.graph import StateGraph, START\n",
    "from langgraph.checkpoint.memory import InMemorySaver\n",
    "from langgraph.types import Command\n",
    "import uuid\n",
    "\n",
    "class SimpleState(TypedDict):\n",
    "    message: str\n",
    "    processed: bool\n",
    "\n",
    "def processing_node(state: SimpleState):\n",
    "    print(f\"Processing node received: {state}\")\n",
    "    return {\n",
    "        \"message\": f\"Processed: {state['message']}\",\n",
    "        \"processed\": True\n",
    "    }\n",
    "\n",
    "def final_node(state: SimpleState):\n",
    "    print(f\"Final node received: {state}\")\n",
    "    return {\n",
    "        \"message\": f\"Final: {state['message']}\",\n",
    "        \"processed\": True\n",
    "    }\n",
    "\n",
    "# Build graph\n",
    "graph_builder = StateGraph(SimpleState)\n",
    "graph_builder.add_node(\"processing_node\", processing_node)\n",
    "graph_builder.add_node(\"final_node\", final_node)\n",
    "graph_builder.add_edge(START, \"processing_node\")\n",
    "graph_builder.add_edge(\"processing_node\", \"final_node\")\n"
   ]
  },
  {
   "cell_type": "code",
   "execution_count": 9,
   "id": "ef49b2ff-2388-4e92-89dd-36aba175df32",
   "metadata": {},
   "outputs": [
    {
     "name": "stdout",
     "output_type": "stream",
     "text": [
      "=== Testing interrupt_before ===\n"
     ]
    }
   ],
   "source": [
    "# Example 1: interrupt_before\n",
    "print(\"=== Testing interrupt_before ===\")\n",
    "graph_before = graph_builder.compile(\n",
    "    checkpointer=InMemorySaver(),\n",
    "    interrupt_before=[\"processing_node\"]\n",
    ")"
   ]
  },
  {
   "cell_type": "code",
   "execution_count": 10,
   "id": "8fbcd189-a1da-45f7-8f02-4c5d419c287b",
   "metadata": {},
   "outputs": [
    {
     "data": {
      "image/png": "[encoded data removed]",
      "text/plain": [
       "<IPython.core.display.Image object>"
      ]
     },
     "metadata": {},
     "output_type": "display_data"
    }
   ],
   "source": [
    "from IPython.display import Image, display\n",
    "from langchain_core.runnables.graph import MermaidDrawMethod\n",
    "\n",
    "display(\n",
    "    Image(\n",
    "        graph_before.get_graph().draw_mermaid_png(\n",
    "            draw_method=MermaidDrawMethod.API,\n",
    "        )\n",
    "    )\n",
    ")"
   ]
  },
  {
   "cell_type": "code",
   "execution_count": 11,
   "id": "edf992af-83b5-4947-898f-04fd6b5bec56",
   "metadata": {},
   "outputs": [
    {
     "name": "stdout",
     "output_type": "stream",
     "text": [
      "{'message': 'Hello', 'processed': False}\n"
     ]
    }
   ],
   "source": [
    "\n",
    "config = {\"configurable\": {\"thread_id\": str(uuid.uuid4())}}\n",
    "\n",
    "# Starting execution\n",
    "result = graph_before.invoke({\"message\": \"Hello\", \"processed\": False}, config=config)\n",
    "print(result)"
   ]
  },
  {
   "cell_type": "code",
   "execution_count": 12,
   "id": "2ed6bcb4-5798-4f90-8e88-664ecaccfa4b",
   "metadata": {},
   "outputs": [
    {
     "name": "stdout",
     "output_type": "stream",
     "text": [
      "Graph state: {'message': 'Hello', 'processed': False}\n",
      "Next node: ('processing_node',)\n"
     ]
    }
   ],
   "source": [
    "state = graph_before.get_state(config)\n",
    "print(f\"Graph state: {state.values}\")\n",
    "print(f\"Next node: {state.next}\")"
   ]
  },
  {
   "cell_type": "code",
   "execution_count": 13,
   "id": "e3372d85-9fca-44ee-8bf2-23ca8bf6409c",
   "metadata": {},
   "outputs": [
    {
     "name": "stdout",
     "output_type": "stream",
     "text": [
      "Processing node received: {'message': 'Hello', 'processed': False}\n",
      "Final node received: {'message': 'Processed: Hello', 'processed': True}\n",
      " Final result: {'message': 'Final: Processed: Hello', 'processed': True}\n"
     ]
    }
   ],
   "source": [
    "# Method 1: Pass None as input to resume from checkpoint\n",
    "final_result = graph_before.invoke(None, config=config)\n",
    "print(f\"Final result: {final_result}\")"
   ]
  },
  {
   "cell_type": "markdown",
   "id": "69f8d040-4f03-42eb-86e1-2d41c40ed25a",
   "metadata": {},
   "source": [
    "### interrupt_after\n"
   ]
  },
  {
   "cell_type": "code",
   "execution_count": 9,
   "id": "ef89efc1",
   "metadata": {},
   "outputs": [
    {
     "data": {
      "text/plain": [
       "<langgraph.graph.state.StateGraph at 0x10dc5a4a0>"
      ]
     },
     "execution_count": 9,
     "metadata": {},
     "output_type": "execute_result"
    }
   ],
   "source": [
    "from typing import TypedDict\n",
    "from langgraph.graph import StateGraph, START\n",
    "from langgraph.checkpoint.memory import InMemorySaver\n",
    "from langgraph.types import Command\n",
    "import uuid\n",
    "\n",
    "class SimpleState(TypedDict):\n",
    "    message: str\n",
    "    processed: bool\n",
    "\n",
    "def processing_node(state: SimpleState):\n",
    "    print(f\"Processing node received: {state}\")\n",
    "    return {\n",
    "        \"message\": f\"Processed: {state['message']}\",\n",
    "        \"processed\": True\n",
    "    }\n",
    "\n",
    "def final_node(state: SimpleState):\n",
    "    print(f\"Final node received: {state}\")\n",
    "    return {\n",
    "        \"message\": f\"Final: {state['message']}\",\n",
    "        \"processed\": True\n",
    "    }\n",
    "\n",
    "# Build graph\n",
    "graph_builder = StateGraph(SimpleState)\n",
    "graph_builder.add_node(\"processing_node\", processing_node)\n",
    "graph_builder.add_node(\"final_node\", final_node)\n",
    "graph_builder.add_edge(START, \"processing_node\")\n",
    "graph_builder.add_edge(\"processing_node\", \"final_node\")\n"
   ]
  },
  {
   "cell_type": "code",
   "execution_count": 10,
   "id": "320ecd7e-8189-49d9-90f4-d293abe32cfb",
   "metadata": {},
   "outputs": [],
   "source": [
    "### Testing interrupt_after \n",
    "graph_after = graph_builder.compile(\n",
    "    checkpointer=InMemorySaver(),\n",
    "    interrupt_after=[\"processing_node\"]\n",
    ")"
   ]
  },
  {
   "cell_type": "code",
   "execution_count": 12,
   "id": "8832145a-eca1-477d-8142-9966a5a4d19a",
   "metadata": {},
   "outputs": [
    {
     "data": {
      "image/png": "[encoded data removed]",
      "text/plain": [
       "<IPython.core.display.Image object>"
      ]
     },
     "metadata": {},
     "output_type": "display_data"
    }
   ],
   "source": [
    "from IPython.display import Image, display\n",
    "from langchain_core.runnables.graph import MermaidDrawMethod\n",
    "\n",
    "display(\n",
    "    Image(\n",
    "        graph_after.get_graph().draw_mermaid_png(\n",
    "            draw_method=MermaidDrawMethod.API,\n",
    "        )\n",
    "    )\n",
    ")"
   ]
  },
  {
   "cell_type": "code",
   "execution_count": 13,
   "id": "2390eb38-34aa-4a48-a566-c43b0cb149d4",
   "metadata": {},
   "outputs": [
    {
     "name": "stdout",
     "output_type": "stream",
     "text": [
      "Processing node received: {'message': 'Stream test', 'processed': False}\n",
      "Chunk: {'processing_node': {'message': 'Processed: Stream test', 'processed': True}}\n",
      "Chunk: {'__interrupt__': ()}\n"
     ]
    }
   ],
   "source": [
    "config = {\"configurable\": {\"thread_id\": str(uuid.uuid4())}}\n",
    "# print(\" Starting execution with stream...\")\n",
    "\n",
    "# Initial execution\n",
    "for chunk in graph_after.stream({\"message\": \"Stream test\", \"processed\": False}, config=config):\n",
    "    print(f\"Chunk: {chunk}\")"
   ]
  },
  {
   "cell_type": "code",
   "execution_count": 14,
   "id": "48a0a9bb-14ff-4268-b107-8736544aed04",
   "metadata": {},
   "outputs": [
    {
     "name": "stdout",
     "output_type": "stream",
     "text": [
      "Graph state: {'message': 'Processed: Stream test', 'processed': True}\n",
      "Next node: ('final_node',)\n"
     ]
    }
   ],
   "source": [
    "state = graph_after.get_state(config)\n",
    "print(f\"Graph state: {state.values}\")\n",
    "print(f\"Next node: {state.next}\")"
   ]
  },
  {
   "cell_type": "code",
   "execution_count": 15,
   "id": "48a5e90f-6dd6-40dd-839c-b984567f389f",
   "metadata": {},
   "outputs": [
    {
     "name": "stdout",
     "output_type": "stream",
     "text": [
      "\n",
      " Resuming with stream...\n",
      "Final node received: {'message': 'Processed: Stream test', 'processed': True}\n",
      "Resume chunk: {'final_node': {'message': 'Final: Processed: Stream test', 'processed': True}}\n"
     ]
    }
   ],
   "source": [
    "print(\"\\n Resuming with stream...\")\n",
    "# Resume execution\n",
    "for chunk in graph_after.stream(None, config=config):\n",
    "    print(f\"Resume chunk: {chunk}\")"
   ]
  },
  {
   "cell_type": "markdown",
   "id": "a46a73b6-a444-4e03-aa21-04c283c5b35e",
   "metadata": {},
   "source": [
    "## Resume Lifecycle"
   ]
  },
  {
   "cell_type": "code",
   "execution_count": 27,
   "id": "53371181-ee94-4016-8f74-7b0109d5d20a",
   "metadata": {},
   "outputs": [
    {
     "name": "stdout",
     "output_type": "stream",
     "text": [
      "=== Initial Execution ===\n",
      "Node execution started - Counter: 0\n",
      "Incremented counter to: 1\n",
      "Graph paused with state: {'counter': 0, 'message': '', '__interrupt__': [Interrupt(value={'current_counter': 1, 'prompt': 'What message should I add?'}, resumable=True, ns=['counting_node:f4db541a-13d2-f8c9-51f7-5e0930ec60aa'])]}\n",
      "Interrupt data: {'current_counter': 1, 'prompt': 'What message should I add?'}\n",
      "\n",
      "=== Resume Execution ===\n",
      "Node execution started - Counter: 0\n",
      "Incremented counter to: 1\n",
      " Received human input: Hello from human!\n",
      "Final state: {'counter': 1, 'message': 'Hello from human!'}\n"
     ]
    }
   ],
   "source": [
    "import uuid\n",
    "from typing import TypedDict\n",
    "from langgraph.checkpoint.memory import InMemorySaver\n",
    "from langgraph.graph import StateGraph, START\n",
    "from langgraph.types import interrupt, Command\n",
    "\n",
    "\n",
    "def demo_resume_lifecycle():\n",
    "    class SimpleState(TypedDict):\n",
    "        counter: int\n",
    "        message: str\n",
    "    \n",
    "    def counting_node(state: SimpleState):\n",
    "        print(f\"Node execution started - Counter: {state['counter']}\")\n",
    "        \n",
    "        # Simulate some work before interrupt\n",
    "        new_counter = state['counter'] + 1\n",
    "        print(f\"Incremented counter to: {new_counter}\")\n",
    "        \n",
    "        # Interrupt and ask for human input\n",
    "        human_input = interrupt({\n",
    "            \"current_counter\": new_counter,\n",
    "            \"prompt\": \"What message should I add?\"\n",
    "        })\n",
    "        \n",
    "        print(f\" Received human input: {human_input}\")\n",
    "        \n",
    "        return {\n",
    "            \"counter\": new_counter,\n",
    "            \"message\": human_input\n",
    "        }\n",
    "    \n",
    "    # Build and compile graph\n",
    "    graph_builder = StateGraph(SimpleState)\n",
    "    graph_builder.add_node(\"counting_node\", counting_node)\n",
    "    graph_builder.add_edge(START, \"counting_node\")\n",
    "    \n",
    "    graph = graph_builder.compile(checkpointer=InMemorySaver())\n",
    "    config = {\"configurable\": {\"thread_id\": str(uuid.uuid4())}}\n",
    "    \n",
    "    print(\"=== Initial Execution ===\")\n",
    "    result = graph.invoke({\"counter\": 0, \"message\": \"\"}, config=config)\n",
    "    \n",
    "    print(f\"Graph paused with state: {result}\")\n",
    "    print(f\"Interrupt data: {result.get('__interrupt__')[0].value}\")\n",
    "    \n",
    "    print(\"\\n=== Resume Execution ===\")\n",
    "    final_result = graph.invoke(Command(resume=\"Hello from human!\"), config=config)\n",
    "    print(f\"Final state: {final_result}\")\n",
    "\n",
    "# Run the demo\n",
    "demo_resume_lifecycle()"
   ]
  },
  {
   "cell_type": "code",
   "execution_count": null,
   "id": "d3b91729-52ec-4333-bf16-3bdfec5f97cf",
   "metadata": {},
   "outputs": [],
   "source": []
  }
 ],
 "metadata": {
  "kernelspec": {
   "display_name": "Python (llm-venv)",
   "language": "python",
   "name": "llm-venv"
  },
  "language_info": {
   "codemirror_mode": {
    "name": "ipython",
    "version": 3
   },
   "file_extension": ".py",
   "mimetype": "text/x-python",
   "name": "python",
   "nbconvert_exporter": "python",
   "pygments_lexer": "ipython3",
   "version": "3.10.18"
  }
 },
 "nbformat": 4,
 "nbformat_minor": 5
}

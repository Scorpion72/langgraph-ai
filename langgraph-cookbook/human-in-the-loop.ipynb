{
 "cells": [
  {
   "cell_type": "markdown",
   "id": "1d96db5f-a631-4f63-b648-2d58899e9574",
   "metadata": {},
   "source": [
    "## The Approve or Reject Pattern"
   ]
  },
  {
   "cell_type": "markdown",
   "id": "fe400802-b33e-464c-8e5a-fb5897dbfe5f",
   "metadata": {},
   "source": [
    "### 1. Core Imports and Setup"
   ]
  },
  {
   "cell_type": "code",
   "execution_count": null,
   "id": "f279aeae-a3e4-4671-b9d2-93ca731edac7",
   "metadata": {},
   "outputs": [],
   "source": [
    "from dotenv import load_dotenv\n",
    "\n",
    "from typing import Literal, TypedDict\n",
    "import uuid\n",
    "from langgraph.constants import START, END\n",
    "from langgraph.graph import StateGraph\n",
    "from langgraph.types import interrupt, Command\n",
    "from langgraph.checkpoint.memory import MemorySaver\n",
    "from langchain_google_genai import ChatGoogleGenerativeAI\n",
    "\n",
    "load_dotenv()\n",
    "\n",
    "model = ChatGoogleGenerativeAI(model=\"gemini-2.0-flash-exp\")\n"
   ]
  },
  {
   "cell_type": "markdown",
   "id": "98a03729-0607-4515-80cf-1ae82b288ef2",
   "metadata": {},
   "source": [
    "### 2. State Definition\n",
    "\n",
    "The state is a TypedDict that maintains the shared data across all nodes in the graph. Here we track the LLM's output and the human's decision.\n"
   ]
  },
  {
   "cell_type": "code",
   "execution_count": null,
   "id": "cf4aec55-7d7b-48dd-adf1-0049bab40bd8",
   "metadata": {},
   "outputs": [],
   "source": [
    "# Define the shared graph state\n",
    "class State(TypedDict):\n",
    "    user_prompt: str\n",
    "    llm_output: str\n",
    "    decision: str\n",
    "\n"
   ]
  },
  {
   "cell_type": "markdown",
   "id": "5293ae3d-3dfe-41c0-848c-3c2224eed32d",
   "metadata": {},
   "source": [
    "### 3. LLM Output Generation\n"
   ]
  },
  {
   "cell_type": "code",
   "execution_count": null,
   "id": "fea51cfd-1e0d-4fd1-a789-ba0c334c7cf4",
   "metadata": {},
   "outputs": [],
   "source": [
    "# Generate content using LLM\n",
    "def generate_llm_output(state: State) -> State:\n",
    "    \"\"\"Generate content using LLM\"\"\"\n",
    "    try:\n",
    "        # Use the user_prompt if provided, otherwise use a default\n",
    "        prompt = state.get(\"user_prompt\", \"Write a short story about a robot\")\n",
    "        \n",
    "        response = model.invoke(prompt)\n",
    "        # FIX: Extract only the text content, not the entire response object\n",
    "        generated_text = response.content if hasattr(response, 'content') else str(response)\n",
    "        \n",
    "        return {\"llm_output\": generated_text}\n",
    "    except Exception as e:\n",
    "        return {\"llm_output\": f\"Error generating content: {str(e)}\"}\n"
   ]
  },
  {
   "cell_type": "markdown",
   "id": "950345dd-0ba1-43ef-9a82-c51cb333a06d",
   "metadata": {},
   "source": [
    "### 4. Human Approval Node - The Heart of the Pattern\n",
    "\n",
    "\n",
    "**How `interrupt` Works:**\n",
    "\n",
    "1. **Pauses Execution**: When `interrupt()` is called, the graph stops executing and returns control to the caller.\n",
    "2. **Returns Context**: The interrupt returns a dictionary with the question and relevant data for human review.\n",
    "3. **Awaits Input**: The graph waits for human input to be provided when resuming.\n",
    "\n",
    "**Important Note about the `decision` variable:**\n",
    "The `decision` variable receives the value that was passed in the `Command(resume=\"...\")` when the graph is resumed. So when we call `graph.invoke(Command(resume=\"approve\"), config=config)`, the string `\"approve\"` becomes the value of `decision`. This is why we can compare it with `decision == \"approve\"` - it's indeed a string that contains whatever value was passed in the resume command.\n",
    "\n",
    "**How `Command` Works:**\n",
    "The `Command` object is a powerful control flow mechanism that serves two purposes:\n",
    "\n",
    "- **`goto`**: Directs the graph to jump to a specific named node\n",
    "- **`update`**: Updates the shared state with new values\n",
    "\n",
    "The type annotation `Command[Literal[\"approved_path\", \"rejected_path\"]]` ensures type safety by specifying exactly which nodes this command can navigate to."
   ]
  },
  {
   "cell_type": "code",
   "execution_count": 151,
   "id": "0649b604-b679-4152-b214-69ffd9d10b52",
   "metadata": {},
   "outputs": [],
   "source": [
    "\n",
    "# Human approval node\n",
    "def human_approval(state: State) -> Command[Literal[\"approved_path\", \"rejected_path\"]]:\n",
    "    \"\"\"Present content to human for approval\"\"\"\n",
    "    decision = interrupt({\n",
    "        \"question\": \"Do you approve the following output?\",\n",
    "        \"llm_output\": state[\"llm_output\"]\n",
    "    })\n",
    "    \n",
    "    if decision == \"approve\":\n",
    "        return Command(goto=\"approved_path\", update={\"decision\": \"approved\"})\n",
    "    else:\n",
    "        return Command(goto=\"rejected_path\", update={\"decision\": \"rejected\"})\n"
   ]
  },
  {
   "cell_type": "markdown",
   "id": "f026162e-a2cd-4614-b317-347c14756698",
   "metadata": {},
   "source": [
    "### 5. Conditional Path Nodes\n",
    "\n",
    "These nodes represent the different paths the workflow can take based on human decision.\n"
   ]
  },
  {
   "cell_type": "code",
   "execution_count": 152,
   "id": "e92e2016-f5de-4b17-bdec-59939dacb19a",
   "metadata": {},
   "outputs": [],
   "source": [
    "\n",
    "# Next steps after approval\n",
    "def approved_node(state: State) -> State:\n",
    "    print(\"✅ Approved path taken.\")\n",
    "    return state\n",
    "\n",
    "# Alternative path after rejection\n",
    "def rejected_node(state: State) -> State:\n",
    "    print(\"❌ Rejected path taken.\")\n",
    "    return state"
   ]
  },
  {
   "cell_type": "markdown",
   "id": "03e6a979-65c9-4b38-8046-2fa6247a41dd",
   "metadata": {},
   "source": [
    "### 6. Graph Construction"
   ]
  },
  {
   "cell_type": "code",
   "execution_count": 153,
   "id": "54d0ad33-cefb-4378-9c33-dfd548a3eaa6",
   "metadata": {},
   "outputs": [],
   "source": [
    "# Build the graph\n",
    "builder = StateGraph(State)\n",
    "builder.add_node(\"generate_llm_output\", generate_llm_output)\n",
    "builder.add_node(\"human_approval\", human_approval)\n",
    "builder.add_node(\"approved_path\", approved_node)\n",
    "builder.add_node(\"rejected_path\", rejected_node)\n",
    "\n",
    "builder.set_entry_point(\"generate_llm_output\")\n",
    "builder.add_edge(\"generate_llm_output\", \"human_approval\")\n",
    "builder.add_edge(\"approved_path\", END)\n",
    "builder.add_edge(\"rejected_path\", END)\n",
    "\n",
    "checkpointer = MemorySaver()\n",
    "graph = builder.compile(checkpointer=checkpointer)"
   ]
  },
  {
   "cell_type": "code",
   "execution_count": 154,
   "id": "31d9da36-0bf2-44f1-a429-6c49e1246cf2",
   "metadata": {},
   "outputs": [
    {
     "data": {
      "image/png": "[encoded data removed]",
      "text/plain": [
       "<IPython.core.display.Image object>"
      ]
     },
     "metadata": {},
     "output_type": "display_data"
    }
   ],
   "source": [
    "from IPython.display import Image, display\n",
    "from langchain_core.runnables.graph import MermaidDrawMethod\n",
    "\n",
    "display(\n",
    "    Image(\n",
    "        graph.get_graph().draw_mermaid_png(\n",
    "            draw_method=MermaidDrawMethod.API,\n",
    "        )\n",
    "    )\n",
    ")"
   ]
  },
  {
   "cell_type": "code",
   "execution_count": 160,
   "id": "b8eacc87-d6b2-43e6-9f5d-fd385d0aaeee",
   "metadata": {},
   "outputs": [],
   "source": [
    "# Create a unique thread ID\n",
    "config = {\"configurable\": {\"thread_id\": str(uuid.uuid4())}}\n",
    "\n",
    "# Start with a user prompt\n",
    "initial_state = {\"user_prompt\": \"Write one line introduction to machine learning for beginners\"}\n",
    "    "
   ]
  },
  {
   "cell_type": "code",
   "execution_count": 161,
   "id": "9fbf4a85-36dd-4ae3-bffa-8c45c7148a16",
   "metadata": {},
   "outputs": [
    {
     "name": "stdout",
     "output_type": "stream",
     "text": [
      "{'user_prompt': 'Write one line introduction to machine learning for beginners'}\n",
      "{'llm_output': 'Machine learning is a way to teach computers to recognize '\n",
      "               'patterns and make predictions from data, just like how you '\n",
      "               'might learn to recognize spam emails after seeing many '\n",
      "               'examples.',\n",
      " 'user_prompt': 'Write one line introduction to machine learning for beginners'}\n",
      "{'__interrupt__': (Interrupt(value={'llm_output': 'Machine learning is a way '\n",
      "                                                  'to teach computers to '\n",
      "                                                  'recognize patterns and make '\n",
      "                                                  'predictions from data, just '\n",
      "                                                  'like how you might learn to '\n",
      "                                                  'recognize spam emails after '\n",
      "                                                  'seeing many examples.',\n",
      "                                    'question': 'Do you approve the following '\n",
      "                                                'output?'},\n",
      "                             resumable=True,\n",
      "                             ns=['human_approval:fe3541d8-b838-5fb9-a9f7-e4fecbd69b20']),)}\n"
     ]
    }
   ],
   "source": [
    "for event in graph.stream(initial_state,config,stream_mode=\"values\"):\n",
    "    # print(event)\n",
    "    pretty_print(event)\n"
   ]
  },
  {
   "cell_type": "code",
   "execution_count": 167,
   "id": "054640ff-5796-44ad-8224-3a7bbe3a572f",
   "metadata": {},
   "outputs": [
    {
     "name": "stdout",
     "output_type": "stream",
     "text": [
      "StateSnapshot(values={'user_prompt': 'Write one line introduction to machine learning for beginners', 'llm_output': 'Machine learning is a way to teach computers to recognize patterns and make predictions from data, just like how you might learn to recognize spam emails after seeing many examples.', 'decision': 'approved'}, next=(), config={'configurable': {'thread_id': '21719916-64ec-4ded-bed2-547ad2a2211c', 'checkpoint_ns': '', 'checkpoint_id': '1f05da55-af6b-69bd-8006-1b339038dd2e'}}, metadata={'source': 'loop', 'writes': {'approved_path': {'user_prompt': 'Write one line introduction to machine learning for beginners', 'llm_output': 'Machine learning is a way to teach computers to recognize patterns and make predictions from data, just like how you might learn to recognize spam emails after seeing many examples.', 'decision': 'approved'}}, 'step': 6, 'parents': {}, 'thread_id': '21719916-64ec-4ded-bed2-547ad2a2211c'}, created_at='2025-07-10T15:48:42.559109+00:00', parent_config={'configurable': {'thread_id': '21719916-64ec-4ded-bed2-547ad2a2211c', 'checkpoint_ns': '', 'checkpoint_id': '1f05da55-af69-6ef9-8005-24e2e739f1ae'}}, tasks=(), interrupts=())\n"
     ]
    }
   ],
   "source": [
    "### check the current state of the graph\n",
    "state=graph.get_state(config)\n",
    "pretty_print(state)"
   ]
  },
  {
   "cell_type": "code",
   "execution_count": 164,
   "id": "6673b8b8-8ab8-4738-acef-592cb9c6caa9",
   "metadata": {},
   "outputs": [
    {
     "data": {
      "text/plain": [
       "('human_approval',)"
      ]
     },
     "execution_count": 164,
     "metadata": {},
     "output_type": "execute_result"
    }
   ],
   "source": [
    "### check the next state\n",
    "state.next"
   ]
  },
  {
   "cell_type": "code",
   "execution_count": 165,
   "id": "b8744fc8-76c1-4ee4-88c2-21d0e6ec8473",
   "metadata": {},
   "outputs": [
    {
     "name": "stdout",
     "output_type": "stream",
     "text": [
      "\n",
      " Simulating human decision: approve\n",
      "✅ Approved path taken.\n",
      "\n",
      " Final result: {'user_prompt': 'Write one line introduction to machine learning for beginners', 'llm_output': 'Machine learning is a way to teach computers to recognize patterns and make predictions from data, just like how you might learn to recognize spam emails after seeing many examples.', 'decision': 'approved'}\n"
     ]
    }
   ],
   "source": [
    " # Simulate human decision (you can change this to \"reject\" to test)\n",
    "human_decision = \"approve\"  # or \"reject\"\n",
    "print(f\"\\n Simulating human decision: {human_decision}\")\n",
    "\n",
    "# Resume with human input\n",
    "final_result = graph.invoke(Command(resume=human_decision), config=config)\n",
    "print(f\"\\n Final result: {final_result}\")"
   ]
  },
  {
   "cell_type": "code",
   "execution_count": 166,
   "id": "8f854269-632e-40e2-9304-1b219243e8d6",
   "metadata": {},
   "outputs": [
    {
     "name": "stdout",
     "output_type": "stream",
     "text": [
      "Decision made: approved\n",
      "LLM Output: Machine learning is a way to teach computers to recognize patterns and make predictions from data, j...\n"
     ]
    }
   ],
   "source": [
    "print(f\"Decision made: {final_result.get('decision', 'N/A')}\")\n",
    "print(f\"LLM Output: {final_result.get('llm_output', 'N/A')[:100]}...\")"
   ]
  },
  {
   "cell_type": "code",
   "execution_count": null,
   "id": "b3db3af6-c53a-4286-8382-108e1f9dd586",
   "metadata": {},
   "outputs": [],
   "source": []
  },
  {
   "cell_type": "markdown",
   "id": "9e77db61-a193-4a5e-967d-906e4ad1cdeb",
   "metadata": {},
   "source": [
    "## 2. Edit and Review Pattern"
   ]
  },
  {
   "cell_type": "markdown",
   "id": "b6b0b547",
   "metadata": {},
   "source": [
    "### 1: Setting Up Dependencies\n"
   ]
  },
  {
   "cell_type": "code",
   "execution_count": null,
   "id": "fb945866-4171-4479-82f5-a61caee65fd6",
   "metadata": {},
   "outputs": [],
   "source": [
    "from dotenv import load_dotenv\n",
    "from typing import TypedDict\n",
    "import uuid\n",
    "from langgraph.constants import START, END\n",
    "from langgraph.graph import StateGraph\n",
    "from langgraph.types import interrupt, Command\n",
    "from langgraph.checkpoint.memory import MemorySaver\n",
    "from langchain_google_genai import ChatGoogleGenerativeAI\n",
    "\n",
    "load_dotenv()\n"
   ]
  },
  {
   "cell_type": "markdown",
   "id": "d861ccd9",
   "metadata": {},
   "source": [
    "### 2: Initialize the AI Model & define the state"
   ]
  },
  {
   "cell_type": "code",
   "execution_count": null,
   "id": "5701bcf6-e7bf-4e2c-a532-337e1fec814d",
   "metadata": {},
   "outputs": [],
   "source": [
    "# Initialize Gemini 2.0 flash model\n",
    "load_dotenv()\n",
    "\n",
    "model = ChatGoogleGenerativeAI(model=\"gemini-2.0-flash-exp\")\n",
    "\n",
    "# Define the graph state\n",
    "class State(TypedDict):\n",
    "    summary: str"
   ]
  },
  {
   "cell_type": "markdown",
   "id": "e57a5033",
   "metadata": {},
   "source": [
    "### 3: AI Content Generation Node\n"
   ]
  },
  {
   "cell_type": "code",
   "execution_count": null,
   "id": "77d64e34-df4e-473b-a6dd-0b22404afed1",
   "metadata": {},
   "outputs": [],
   "source": [
    "# Generate summary using LLM\n",
    "def generate_summary(state: State) -> State:\n",
    "    \"\"\"Generate a summary using LLM\"\"\"\n",
    "    \n",
    "    # Create a simple prompt for demonstration\n",
    "    prompt = \"Write a brief summary about a cat sitting on a mat.\"\n",
    "    \n",
    "    try:\n",
    "        # Call the model\n",
    "        response = model.invoke(prompt)\n",
    "        summary = response.content\n",
    "        \n",
    "        return {\n",
    "            \"summary\": summary\n",
    "        }\n",
    "        \n",
    "    except Exception as e:\n",
    "        print(f\"Error calling Gemini: {e}\")\n",
    "        # Fallback to original hardcoded summary\n",
    "        return {\n",
    "            \"summary\": \"The cat sat on the mat and looked at the stars.\"\n",
    "        }"
   ]
  },
  {
   "cell_type": "markdown",
   "id": "932e5af8",
   "metadata": {},
   "source": [
    "### 4: Human Review and Edit Node"
   ]
  },
  {
   "cell_type": "code",
   "execution_count": 174,
   "id": "110f8bf2-cab2-4739-8e0f-7107632ae670",
   "metadata": {},
   "outputs": [],
   "source": [
    "# Human editing node\n",
    "def human_review_edit(state: State) -> State:\n",
    "    \"\"\"Allow human to review and edit the AI-generated summary\"\"\"\n",
    "    \n",
    "    result = interrupt({\n",
    "        \"task\": \"Please review and edit the generated summary if necessary.\",\n",
    "        \"generated_summary\": state[\"summary\"]\n",
    "    })\n",
    "    \n",
    "    return {\n",
    "        \"summary\": result[\"edited_summary\"]\n",
    "    }\n"
   ]
  },
  {
   "cell_type": "markdown",
   "id": "c6a63461",
   "metadata": {},
   "source": [
    "### 5: Downstream Processing Node"
   ]
  },
  {
   "cell_type": "code",
   "execution_count": 175,
   "id": "9f7da4d6-2777-4f93-89a2-e6c1671c4521",
   "metadata": {},
   "outputs": [],
   "source": [
    "\n",
    "# Simulate downstream use of the edited summary\n",
    "def downstream_use(state: State) -> State:\n",
    "    \"\"\"Process the final summary\"\"\"\n",
    "    print(f\"✅ Using edited summary: {state['summary']}\")\n",
    "    return state\n"
   ]
  },
  {
   "cell_type": "markdown",
   "id": "a0f2d511",
   "metadata": {},
   "source": [
    "### 6: Building the Graph\n"
   ]
  },
  {
   "cell_type": "code",
   "execution_count": 176,
   "id": "03e25f62-cb70-4e45-9336-9d0179558364",
   "metadata": {},
   "outputs": [],
   "source": [
    "# Build the graph\n",
    "def create_summary_review_graph():\n",
    "    \"\"\"Create and return the configured LangGraph\"\"\"\n",
    "    \n",
    "    builder = StateGraph(State)\n",
    "    \n",
    "    # Add nodes\n",
    "    builder.add_node(\"generate_summary\", generate_summary)\n",
    "    builder.add_node(\"human_review_edit\", human_review_edit)\n",
    "    builder.add_node(\"downstream_use\", downstream_use)\n",
    "    \n",
    "    # Set entry point\n",
    "    builder.set_entry_point(\"generate_summary\")\n",
    "    \n",
    "    # Add edges\n",
    "    builder.add_edge(\"generate_summary\", \"human_review_edit\")\n",
    "    builder.add_edge(\"human_review_edit\", \"downstream_use\")\n",
    "    builder.add_edge(\"downstream_use\", END)\n",
    "    \n",
    "    # Set up in-memory checkpointing for interrupt support\n",
    "    checkpointer = MemorySaver()\n",
    "    \n",
    "    return builder.compile(checkpointer=checkpointer)\n"
   ]
  },
  {
   "cell_type": "markdown",
   "id": "b811afba",
   "metadata": {},
   "source": [
    "### 7: Executing the Workflow\n"
   ]
  },
  {
   "cell_type": "code",
   "execution_count": 177,
   "id": "4164b22a-c0d9-4865-879e-d4585d07a85e",
   "metadata": {},
   "outputs": [],
   "source": [
    "# Create the graph\n",
    "graph = create_summary_review_graph()\n"
   ]
  },
  {
   "cell_type": "code",
   "execution_count": 178,
   "id": "8d903879-61f7-46dd-8a7e-e5f4be428270",
   "metadata": {},
   "outputs": [
    {
     "data": {
      "image/png": "[encoded data removed]",
      "text/plain": [
       "<IPython.core.display.Image object>"
      ]
     },
     "metadata": {},
     "output_type": "display_data"
    }
   ],
   "source": [
    "from IPython.display import Image, display\n",
    "from langchain_core.runnables.graph import MermaidDrawMethod\n",
    "\n",
    "display(\n",
    "    Image(\n",
    "        graph.get_graph().draw_mermaid_png(\n",
    "            draw_method=MermaidDrawMethod.API,\n",
    "        )\n",
    "    )\n",
    ")"
   ]
  },
  {
   "cell_type": "code",
   "execution_count": 179,
   "id": "899b27f2-b32e-477f-804b-36d04e459efe",
   "metadata": {},
   "outputs": [],
   "source": [
    "# Generate unique thread ID for this execution\n",
    "config = {\"configurable\": {\"thread_id\": str(uuid.uuid4())}}"
   ]
  },
  {
   "cell_type": "code",
   "execution_count": 181,
   "id": "5cef64df-32dd-4383-b85f-9bdf64939bec",
   "metadata": {},
   "outputs": [
    {
     "name": "stdout",
     "output_type": "stream",
     "text": [
      "Step 1: Generating AI summary...\n"
     ]
    }
   ],
   "source": [
    "# Step 1: Invoke the graph until it hits the interrupt\n",
    "print(\"Step 1: Generating AI summary...\")\n",
    "result = graph.invoke({}, config=config)"
   ]
  },
  {
   "cell_type": "code",
   "execution_count": 187,
   "id": "cd017add-4960-4801-80de-10ba4dbae1d4",
   "metadata": {},
   "outputs": [
    {
     "name": "stdout",
     "output_type": "stream",
     "text": [
      "{'summary': 'A cat has chosen to rest comfortably on a mat, likely enjoying the soft texture and defined space it provides. Cats often seek out mats, rugs, and similar surfaces because they offer warmth, comfort, and a sense of security. The cat may be relaxing, napping, or simply observing its surroundings from this cozy spot. This simple scene captures a typical moment of feline contentment and their natural tendency to find comfortable places to settle.', '__interrupt__': [Interrupt(value={'task': 'Please review and edit the generated summary if necessary.', 'generated_summary': 'A cat has chosen to rest comfortably on a mat, likely enjoying the soft texture and defined space it provides. Cats often seek out mats, rugs, and similar surfaces because they offer warmth, comfort, and a sense of security. The cat may be relaxing, napping, or simply observing its surroundings from this cozy spot. This simple scene captures a typical moment of feline contentment and their natural tendency to find comfortable places to settle.'}, resumable=True, ns=['human_review_edit:70c968c8-84e6-f408-6679-e04e2fd31aa0'])]}\n"
     ]
    }
   ],
   "source": [
    "print(result)"
   ]
  },
  {
   "cell_type": "code",
   "execution_count": 183,
   "id": "698b8aaa-7cb9-4bca-a54a-bd5cd664d63e",
   "metadata": {},
   "outputs": [
    {
     "data": {
      "text/plain": [
       "[Interrupt(value={'task': 'Please review and edit the generated summary if necessary.', 'generated_summary': 'A cat has chosen to rest comfortably on a mat, likely enjoying the soft texture and defined space it provides. Cats often seek out mats, rugs, and similar surfaces because they offer warmth, comfort, and a sense of security. The cat may be relaxing, napping, or simply observing its surroundings from this cozy spot. This simple scene captures a typical moment of feline contentment and their natural tendency to find comfortable places to settle.'}, resumable=True, ns=['human_review_edit:70c968c8-84e6-f408-6679-e04e2fd31aa0'])]"
      ]
     },
     "execution_count": 183,
     "metadata": {},
     "output_type": "execute_result"
    }
   ],
   "source": [
    "interrupt_data = result[\"__interrupt__\"]\n",
    "interrupt_data"
   ]
  },
  {
   "cell_type": "markdown",
   "id": "3a72f505",
   "metadata": {},
   "source": [
    "### 8: Human Intervention\n"
   ]
  },
  {
   "cell_type": "code",
   "execution_count": 184,
   "id": "cdd8cdfa-13b4-4e90-b60d-97d7481175e5",
   "metadata": {},
   "outputs": [
    {
     "name": "stdout",
     "output_type": "stream",
     "text": [
      "Step 2: Human reviewing and editing...\n"
     ]
    }
   ],
   "source": [
    "# Simulate human editing (in a real application, this would be user input)\n",
    "print(\"Step 2: Human reviewing and editing...\")\n",
    "edited_summary = \"The cat lay on the rug, gazing peacefully at the night sky.\""
   ]
  },
  {
   "cell_type": "code",
   "execution_count": 185,
   "id": "4c378588-aebd-47f6-8f94-f0f3113203f1",
   "metadata": {},
   "outputs": [
    {
     "name": "stdout",
     "output_type": "stream",
     "text": [
      "Step 3: Resuming workflow with edited summary...\n",
      "✅ Using edited summary: The cat lay on the rug, gazing peacefully at the night sky.\n"
     ]
    }
   ],
   "source": [
    "# Step 3: Resume the graph with edited input\n",
    "print(\"Step 3: Resuming workflow with edited summary...\")\n",
    "final_result = graph.invoke(\n",
    "    Command(resume={\"edited_summary\": edited_summary}),\n",
    "    config=config\n",
    ")"
   ]
  },
  {
   "cell_type": "code",
   "execution_count": null,
   "id": "5f00c24a",
   "metadata": {},
   "outputs": [],
   "source": []
  }
 ],
 "metadata": {
  "kernelspec": {
   "display_name": "llm-venv",
   "language": "python",
   "name": "llm-venv"
  },
  "language_info": {
   "codemirror_mode": {
    "name": "ipython",
    "version": 3
   },
   "file_extension": ".py",
   "mimetype": "text/x-python",
   "name": "python",
   "nbconvert_exporter": "python",
   "pygments_lexer": "ipython3",
   "version": "3.10.12"
  }
 },
 "nbformat": 4,
 "nbformat_minor": 5
}
